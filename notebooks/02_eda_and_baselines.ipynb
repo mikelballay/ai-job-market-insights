{
 "cells": [
  {
   "cell_type": "markdown",
   "id": "7fb27b941602401d91542211134fc71a",
   "metadata": {},
   "source": [
    "# AI Job Market Insights — EDA & Baselines (Phase 2)\n",
    "Explora top skills, co-ocurrencias y baseline.\n"
   ]
  },
  {
   "cell_type": "code",
   "execution_count": null,
   "id": "acae54e37e7d407bbb7b55eff062a284",
   "metadata": {},
   "outputs": [],
   "source": [
    "from collections import Counter\n",
    "from itertools import combinations\n",
    "\n",
    "import pandas as pd\n",
    "\n",
    "df = pd.read_parquet('data/processed/jobs_features_skills.parquet')\n",
    "df.head()\n"
   ]
  },
  {
   "cell_type": "markdown",
   "id": "9a63283cbaf04dbcab1f6479b197f3a8",
   "metadata": {},
   "source": [
    "## Top 20 skills"
   ]
  },
  {
   "cell_type": "code",
   "execution_count": null,
   "id": "8dd0d8092fe74a7c96281538738b07e2",
   "metadata": {},
   "outputs": [],
   "source": [
    "all_skills = [s for lst in df.get('skills', []) for s in (lst or [])]\n",
    "top = Counter(all_skills).most_common(20)\n",
    "pd.DataFrame(top, columns=['skill','count'])\n"
   ]
  },
  {
   "cell_type": "markdown",
   "id": "72eea5119410473aa328ad9291626812",
   "metadata": {},
   "source": [
    "## Skill co-occurrence (top pairs)"
   ]
  },
  {
   "cell_type": "code",
   "execution_count": null,
   "id": "8edb47106e1a46a883d545849b8ab81b",
   "metadata": {},
   "outputs": [],
   "source": [
    "pairs = Counter()\n",
    "for lst in df.get('skills', []):\n",
    "    if not lst:\n",
    "        continue\n",
    "    for a,b in combinations(sorted(set(lst)), 2):\n",
    "        pairs[(a,b)] += 1\n",
    "pd.DataFrame([(f\"{a} & {b}\", c) for (a,b), c in pairs.most_common(25)], columns=['pair','count'])\n"
   ]
  },
  {
   "cell_type": "markdown",
   "id": "10185d26023b46108eb7d9f57d49d2b3",
   "metadata": {},
   "source": [
    "## Role label distribution (heuristic from title)"
   ]
  },
  {
   "cell_type": "code",
   "execution_count": null,
   "id": "8763a12b2bbd4a93a75aff182afb95dc",
   "metadata": {},
   "outputs": [],
   "source": [
    "import re\n",
    "\n",
    "ROLE_PATTERNS = [\n",
    "    (\"data_scientist\", re.compile(r\"(?i)\\\\bdata\\\\s*scientist\\\\b\")),\n",
    "    (\"ml_engineer\", re.compile(r\"(?i)\\\\b(ml|machine\\\\s*learning)\\\\s*engineer\\\\b\")),\n",
    "    (\"data_engineer\", re.compile(r\"(?i)\\\\bdata\\\\s*engineer\\\\b\")),\n",
    "    (\"risk_analyst\", re.compile(r\"(?i)\\\\b(risk|credit)\\\\s*(data\\\\s*)?analyst\\\\b\")),\n",
    "    (\"quant_researcher\", re.compile(r\"(?i)\\\\bquant(itative)?\\\\s*(researcher|analyst)?\\\\b\")),\n",
    "    (\"mlops_engineer\", re.compile(r\"(?i)\\\\bmlops\\\\s*engineer\\\\b\")),\n",
    "    (\"cv_engineer\", re.compile(r\"(?i)\\\\b(computer\\\\s*vision|cv)\\\\s*engineer\\\\b\")),\n",
    "]\n",
    "def infer_role_label(title: str) -> str:\n",
    "    if not isinstance(title, str):\n",
    "        return \"other\"\n",
    "    for label, pat in ROLE_PATTERNS:\n",
    "        if pat.search(title):\n",
    "            return label\n",
    "    return \"other\"\n",
    "df['role_label'] = df['title'].map(infer_role_label)\n",
    "df['role_label'].value_counts()\n"
   ]
  }
 ],
 "metadata": {
  "kernelspec": {
   "display_name": "Python 3",
   "language": "python",
   "name": "python3"
  },
  "language_info": {
   "name": "python",
   "version": "3"
  }
 },
 "nbformat": 4,
 "nbformat_minor": 5
}